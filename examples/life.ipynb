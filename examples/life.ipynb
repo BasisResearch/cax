{
 "cells": [
  {
   "cell_type": "markdown",
   "metadata": {},
   "source": [
    "# Conway's Game of Life"
   ]
  },
  {
   "cell_type": "markdown",
   "metadata": {},
   "source": [
    "## Installation"
   ]
  },
  {
   "cell_type": "markdown",
   "metadata": {},
   "source": [
    "You will need Python 3.10 or later, and a working JAX installation. For example, you can install JAX with:"
   ]
  },
  {
   "cell_type": "code",
   "execution_count": null,
   "metadata": {},
   "outputs": [],
   "source": [
    "%pip install -U \"jax[cuda12]\""
   ]
  },
  {
   "cell_type": "markdown",
   "metadata": {},
   "source": [
    "Then, install CAX from PyPi:"
   ]
  },
  {
   "cell_type": "code",
   "execution_count": null,
   "metadata": {},
   "outputs": [],
   "source": [
    "%pip install -U \"cax[examples]\""
   ]
  },
  {
   "cell_type": "markdown",
   "metadata": {},
   "source": [
    "## Import"
   ]
  },
  {
   "cell_type": "code",
   "execution_count": 1,
   "metadata": {},
   "outputs": [],
   "source": [
    "import jax\n",
    "import jax.numpy as jnp\n",
    "import mediapy\n",
    "from cax.core.ca import CA\n",
    "from cax.core.perceive.conv_perceive import ConvPerceive\n",
    "from cax.core.perceive.kernels import identity_kernel, neighbors_kernel\n",
    "from cax.core.update.life_update import LifeUpdate\n",
    "from flax import nnx"
   ]
  },
  {
   "cell_type": "markdown",
   "metadata": {},
   "source": [
    "## Configuration"
   ]
  },
  {
   "cell_type": "code",
   "execution_count": 2,
   "metadata": {},
   "outputs": [],
   "source": [
    "seed = 0\n",
    "\n",
    "spatial_dims = (32, 32)\n",
    "channel_size = 1\n",
    "\n",
    "num_steps = 128\n",
    "\n",
    "key = jax.random.key(seed)\n",
    "rngs = nnx.Rngs(seed)"
   ]
  },
  {
   "cell_type": "markdown",
   "metadata": {},
   "source": [
    "## Init state"
   ]
  },
  {
   "cell_type": "code",
   "execution_count": 3,
   "metadata": {},
   "outputs": [],
   "source": [
    "def init_state():\n",
    "\tstate = jnp.zeros((*spatial_dims, channel_size))\n",
    "\n",
    "\tmid_x, mid_y = spatial_dims[0] // 2, spatial_dims[1] // 2\n",
    "\tglider = jnp.array(\n",
    "\t\t[\n",
    "\t\t\t[0.0, 1.0, 0.0],\n",
    "\t\t\t[0.0, 0.0, 1.0],\n",
    "\t\t\t[1.0, 1.0, 1.0],\n",
    "\t\t]\n",
    "\t)\n",
    "\treturn state.at[mid_x : mid_x + 3, mid_y : mid_y + 3, 0].set(glider)"
   ]
  },
  {
   "cell_type": "markdown",
   "metadata": {},
   "source": [
    "## Model"
   ]
  },
  {
   "cell_type": "code",
   "execution_count": 4,
   "metadata": {},
   "outputs": [],
   "source": [
    "perceive = ConvPerceive(\n",
    "\tchannel_size=channel_size,\n",
    "\tperception_size=2 * channel_size,\n",
    "\trngs=rngs,\n",
    "\tpadding=\"CIRCULAR\",\n",
    "\tfeature_group_count=channel_size,\n",
    ")\n",
    "update = LifeUpdate()"
   ]
  },
  {
   "cell_type": "code",
   "execution_count": 5,
   "metadata": {},
   "outputs": [],
   "source": [
    "kernel = jnp.concatenate([identity_kernel(2), neighbors_kernel(2)], axis=-1)\n",
    "kernel = jnp.expand_dims(kernel, axis=-2)\n",
    "perceive.conv.kernel = nnx.Param(kernel)"
   ]
  },
  {
   "cell_type": "code",
   "execution_count": 6,
   "metadata": {},
   "outputs": [],
   "source": [
    "ca = CA(perceive, update)"
   ]
  },
  {
   "cell_type": "markdown",
   "metadata": {},
   "source": [
    "## Visualize"
   ]
  },
  {
   "cell_type": "code",
   "execution_count": null,
   "metadata": {},
   "outputs": [],
   "source": [
    "state = init_state()\n",
    "\n",
    "state = ca(state, num_steps=num_steps, all_steps=True)"
   ]
  },
  {
   "cell_type": "code",
   "execution_count": 10,
   "metadata": {},
   "outputs": [
    {
     "data": {
      "text/html": [
       "<table class=\"show_videos\" style=\"border-spacing:0px;\"><tr><td style=\"padding:1px;\"><img width=\"256\" height=\"256\" style=\"image-rendering:pixelated; object-fit:cover;\" src=\"data:image/gif;base64,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\"/></td></tr></table>"
      ],
      "text/plain": [
       "<IPython.core.display.HTML object>"
      ]
     },
     "metadata": {},
     "output_type": "display_data"
    }
   ],
   "source": [
    "mediapy.show_video(jnp.squeeze(state), width=256, height=256, codec=\"gif\")"
   ]
  }
 ],
 "metadata": {
  "kernelspec": {
   "display_name": ".venv",
   "language": "python",
   "name": "python3"
  },
  "language_info": {
   "codemirror_mode": {
    "name": "ipython",
    "version": 3
   },
   "file_extension": ".py",
   "mimetype": "text/x-python",
   "name": "python",
   "nbconvert_exporter": "python",
   "pygments_lexer": "ipython3",
   "version": "3.12.8"
  }
 },
 "nbformat": 4,
 "nbformat_minor": 2
}
