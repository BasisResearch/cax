{
 "cells": [
  {
   "cell_type": "markdown",
   "metadata": {},
   "source": [
    "# Variational Autoencoder"
   ]
  },
  {
   "cell_type": "markdown",
   "metadata": {},
   "source": [
    "## Import"
   ]
  },
  {
   "cell_type": "code",
   "execution_count": 1,
   "metadata": {},
   "outputs": [],
   "source": [
    "import jax\n",
    "import jax.numpy as jnp\n",
    "import mediapy\n",
    "import optax\n",
    "from cax.nn.vae import VAE, vae_loss\n",
    "from datasets import load_dataset\n",
    "from flax import nnx"
   ]
  },
  {
   "cell_type": "markdown",
   "metadata": {},
   "source": [
    "## Configuration"
   ]
  },
  {
   "cell_type": "code",
   "execution_count": null,
   "metadata": {},
   "outputs": [],
   "source": [
    "seed = 42\n",
    "\n",
    "spatial_dims = (28, 28)\n",
    "features = (1, 32, 32)\n",
    "latent_size = 8\n",
    "\n",
    "batch_size = 32\n",
    "learning_rate = 1e-2\n",
    "\n",
    "key = jax.random.PRNGKey(seed)\n",
    "rngs = nnx.Rngs(seed)"
   ]
  },
  {
   "cell_type": "markdown",
   "metadata": {},
   "source": [
    "## Dataset"
   ]
  },
  {
   "cell_type": "code",
   "execution_count": 3,
   "metadata": {},
   "outputs": [],
   "source": [
    "ds = load_dataset(\"ylecun/mnist\")\n",
    "\n",
    "image_train = jnp.expand_dims(jnp.array(ds[\"train\"][\"image\"], dtype=jnp.float32) / 255, axis=-1)\n",
    "image_test = jnp.expand_dims(jnp.array(ds[\"test\"][\"image\"], dtype=jnp.float32) / 255, axis=-1)\n",
    "\n",
    "mediapy.show_images(ds[\"train\"][\"image\"][:8], width=64, height=64)"
   ]
  },
  {
   "cell_type": "markdown",
   "metadata": {},
   "source": [
    "## Model"
   ]
  },
  {
   "cell_type": "code",
   "execution_count": 6,
   "metadata": {},
   "outputs": [],
   "source": [
    "vae = VAE(spatial_dims, features, latent_size, rngs)"
   ]
  },
  {
   "cell_type": "code",
   "execution_count": 7,
   "metadata": {},
   "outputs": [
    {
     "name": "stdout",
     "output_type": "stream",
     "text": [
      "Number of params: 2518513\n"
     ]
    }
   ],
   "source": [
    "params = nnx.state(vae, nnx.Param)\n",
    "print(\"Number of params:\", jax.tree_util.tree_reduce(lambda x, y: x + y.size, params, 0))"
   ]
  },
  {
   "cell_type": "markdown",
   "metadata": {},
   "source": [
    "## Train"
   ]
  },
  {
   "cell_type": "markdown",
   "metadata": {},
   "source": [
    "### Optimizer"
   ]
  },
  {
   "cell_type": "code",
   "execution_count": 8,
   "metadata": {},
   "outputs": [],
   "source": [
    "lr_sched = optax.linear_schedule(init_value=learning_rate, end_value=0.01 * learning_rate, transition_steps=8_192)\n",
    "\n",
    "optimizer = optax.chain(\n",
    "\toptax.clip_by_global_norm(1.0),\n",
    "\toptax.adam(learning_rate=lr_sched),\n",
    ")\n",
    "optimizer = nnx.Optimizer(vae, optimizer)"
   ]
  },
  {
   "cell_type": "markdown",
   "metadata": {},
   "source": [
    "### Loss"
   ]
  },
  {
   "cell_type": "code",
   "execution_count": 9,
   "metadata": {},
   "outputs": [],
   "source": [
    "@nnx.jit\n",
    "def loss_fn(vae, image, key):\n",
    "\timage_recon, mean, logvar = vae(image, key)\n",
    "\treturn vae_loss(image_recon, image, mean, logvar)"
   ]
  },
  {
   "cell_type": "markdown",
   "metadata": {},
   "source": [
    "### Train step"
   ]
  },
  {
   "cell_type": "code",
   "execution_count": 10,
   "metadata": {},
   "outputs": [],
   "source": [
    "@nnx.jit\n",
    "def train_step(vae, optimizer, key):\n",
    "\tsample_key, loss_key = jax.random.split(key)\n",
    "\timage_index = jax.random.choice(sample_key, image_train.shape[0], shape=(batch_size,))\n",
    "\timage = image_train[image_index]\n",
    "\n",
    "\tloss, grad = nnx.value_and_grad(loss_fn)(vae, image, loss_key)\n",
    "\toptimizer.update(grad)\n",
    "\n",
    "\treturn loss"
   ]
  },
  {
   "cell_type": "markdown",
   "metadata": {},
   "source": [
    "### Main loop"
   ]
  },
  {
   "cell_type": "code",
   "execution_count": null,
   "metadata": {},
   "outputs": [],
   "source": [
    "for i in range(8_192):\n",
    "\tkey, subkey = jax.random.split(key)\n",
    "\tloss = train_step(vae, optimizer, subkey)\n",
    "\tif i % 128 == 0:\n",
    "\t\tprint(f\"Step {i}: loss = {loss}\")"
   ]
  },
  {
   "cell_type": "markdown",
   "metadata": {},
   "source": [
    "## Visualize"
   ]
  },
  {
   "cell_type": "code",
   "execution_count": 34,
   "metadata": {},
   "outputs": [
    {
     "data": {
      "text/html": [
       "<table class=\"show_images\" style=\"border-spacing:0px;\"><tr><td style=\"padding:1px;\"><img width=\"128\" height=\"128\" style=\"image-rendering:pixelated; object-fit:cover;\" src=\"data:image/png;base64,iVBORw0KGgoAAAANSUhEUgAAABwAAAAcCAIAAAD9b0jDAAADIklEQVR4nO2UT0vrShjGM5PJv5ZKG5pEW7GiIBaCqxZFxIWKO3EjdmURv4BLP4BLP4FLP4Ab3YkLF1pBUBGl9Q8FRVMrLW1NMUmTSeYsApeLtLXncjcHzrOcvPPk+c2881LUnyLQSxGEMBKJiKJo27au641GgxDSpR71YhqJRNbX19PpdD6fv7m5OT4+Nk3T87zfMAUAUBTlZwEA8Dy/traWzWZlWY7FYpVKhWVZ0zS7kbVd/YcOITQ2Nra6uipJEsdxhmG8vr62Wq3u+D9IFMXDw0PbtjHG1Wp1a2urv7/fR/mPQghlMpnPz09CCMY4l8uNj49D2B7u3+pWEQgEFhYWBEEghLRarWKxyHEcTdM/Ju1oCgCQZVlVVUKI30k8z8/MzMRiMYZhuvt2bCmaplOpVCKR8PcjhMLhsKqqsiwXCoXz83NN0zzPa9tY7U0hhKFQKJ1OBwIB13UJIRDCeDwejUYlSWIY5u7ubnd39/T09OPjw3XdnvAhhIqizM3NsSxrGEalUmk0GvV6nRDieR6EUFXV7e3tpaUlnud7Tep5XjAYZBjGsqx8Pu+6riAILy8vj4+PGONkMjk7Ozs0NLSysnJycvLw8NCTKQAAIcTzvOM4xWKxVCrd3t7mcjld1xFC09PTiURCkqR4PI4QAgB8ewsdz3RwcBAhVKvVrq6uDg4ONE3DGPtfc7lcoVCYnJzked4wjDbbOyUNh8O2bX99fb29vem67l+Xn0hRFFVVAQA0TQeDwV5NKYrCGPsnMDExIYoiy7IIIQhhNBrd3NxMJpP+i/Dxv+1tj++67uXlZa1WGx4ezmazIyMj+/v7NE0PDAxsbGyMjo6GQiGM8dPT0/Pzc5cZ+B1fkqS9vT1d103TbDab7+/vmqaVy2Xbtl3XtW37/v5+cXGRpumeHH2xLJvJZKrVquM4juMYhoEx9jzPp87n88vLy4Ig/PbE4jhuZ2fn+vq6Xq83m02MMcbYsqyzs7NUKtVlAnT7DwCgr69PFMX5+fmpqSlFUcrl8sXFxdHRUalUwhh3GtU/h/dbh+M4iqIIIZZl9Xozf/U/6hd8ZYmE2vlyLgAAAABJRU5ErkJggg==\"/></td></tr></table>"
      ],
      "text/plain": [
       "<IPython.core.display.HTML object>"
      ]
     },
     "metadata": {},
     "output_type": "display_data"
    }
   ],
   "source": [
    "key, subkey = jax.random.split(key)\n",
    "z = jax.random.normal(subkey, shape=(latent_size,))\n",
    "image = vae.generate(z)\n",
    "\n",
    "mediapy.show_image(image, width=128, height=128)"
   ]
  },
  {
   "cell_type": "code",
   "execution_count": 27,
   "metadata": {},
   "outputs": [
    {
     "data": {
      "text/html": [
       "<table class=\"show_images\" style=\"border-spacing:0px;\"><tr><td style=\"padding:1px;\"><img width=\"64\" height=\"64\" style=\"image-rendering:pixelated; object-fit:cover;\" src=\"data:image/png;base64,iVBORw0KGgoAAAANSUhEUgAAABwAAAAcCAIAAAD9b0jDAAACA0lEQVR4nO2UT+gpURTH73sxYqQoaTZ2kyhlI0rsFMladpqNbDSytrC2kGyVpT9rpCxYGFZip2ahbG6JRmlQdGZ+i6nXi+G98Vav976re8/5ns89Z3EuQv/1V+jb75hIkmRZ1mQyhUIhjuMGg8FyubxcLh++6fF4arWaIAgAAACSJCmH3W7n9/s/hMbjcfhJ+/2+Xq9nMpnhcIgxDgQCn0BDoZAoigoRY+x2u5W41WpdLBa9Xk+16vt7KMdxPM8jhDDG0Wh0vV4r8ePxuNvtPmkTIRQMBk+nEwDk8/mHVL1ePxwONE1rI9rt9vF4DADJZFKv1z9kw+EwAPh8vufCd+OnUqlIJIIQWq/X9/td1ZPNZrV1OhgMAKBUKul0uucsQRDz+bzdbmsg5nK52+3G8zxFUaoGp9O52Ww0QGmalmVZkqR+v//KE4lEJEliWfY5pTKXIkmSEEKj0eiVgSRJWZZFUdTQKQDMZjOHw6FqMBgMk8lktVrZbDZt0Fgs9spQLpcB4MONUpXRaAyHwwihbreroexNpwaDodFoAECxWLRYLBqgFEVtt9tCofAQ93q9zWYTAKbTqeou/UKdTud8PjMMo1zT6TTDMIIgiKJYqVTMZrNmIkLI5XJtNpvr9Yoxxhjf73cA4DguHo9/gvshmqZbrZbymVar1UQiQRDEHxH/DX0B8xEK33K461sAAAAASUVORK5CYII=\"/></td><td style=\"padding:1px;\"><img width=\"64\" height=\"64\" style=\"image-rendering:pixelated; object-fit:cover;\" src=\"data:image/png;base64,iVBORw0KGgoAAAANSUhEUgAAABwAAAAcCAIAAAD9b0jDAAAB8ElEQVR4nO2SPc8hURSARywSmQlRyETlY0SCUFCIKYhi/oBMS20oREUkSn9Aq1H4BxLTUMiUPoqRkIyRGAUxSDDxGdcWEnmX9a68+yZbrKe6Offc55x7z4WgN/8vsi+ccTqder1eFEWWZf+2vt/vz2QyrVZrs9lcLhdJkjqdjsvlksnuO3u1U4vF0mw2NRoNBEHtdnsymUAQRBCEQqGAYXi73X5M/vGiVBCEUqm0WCxYlqVper/f2+32UCikUCheNLxEKpUCANRqNblc/j3GfD5/PB55nler1d9jDAaD8/kcAEBR1FfOW61Wj8djNBpvkUgkcj6fAQDFYvFx7lcefoNMRhCEw+Hwer02mw3DMARBlsvlaDS6JtjtdpVKtd1ufT5ft9v9rfR++iaTqVqtQhDU6/UKhcJut9NqteFwGMMwFEU/1iZJcrVajcfjP1zW7XZPp9PT6URRFIIgtzgMw6IoAgAAAOv1WpKk63o2m1UqFRzHPxtXNpsdDAaBQOAW8Xq95XL5amQYhiRJBEFQFI1GozRND4fDq53n+adSSZIajYbBYDCbzblcrt/v73Y7AIAoislkUqlU3uVrtdpYLCYIwuFweCqlaRr8CsMw6XRap9N9/m44jj/dg2E4Ho9zHMdxXL1eTyQSj929efMP+AlGn+62Hx04GwAAAABJRU5ErkJggg==\"/></td><td style=\"padding:1px;\"><img width=\"64\" height=\"64\" style=\"image-rendering:pixelated; object-fit:cover;\" src=\"data:image/png;base64,iVBORw0KGgoAAAANSUhEUgAAABwAAAAcCAIAAAD9b0jDAAABkklEQVR4nO2Qv8sBcRzHP52nTuFIBptyRbYbbjhlkMnsHzAY/RVGlD/gbrYoZeC7s7EQo6Q4E6WQH6f39Qx6njwUDvUsXtv37n2vXt8j+vDhXwgGg9Vq1fwhl8vZbLaXjKqqjkYj/CWTyTyp83q9jLH9fm+a5nQ6VVVVkqRGowFgPB4/Y/R4PJ1OB8Bms9E0zW63n57HYjEAq9XKms7lcqXT6V6vB2CxWMTj8fO3iqJYlkaj0cFg8PvvarXaxaBUKt2Wfl2cJUlijAmCQETH49EwjHa7fbHx+/0WGokoHA7rug6gXq/Lsnw9EARhOBwC0DTNglcUxUQicYq9plAoAJhMJm6321rvDdbrNYByuXxjw1kyJpNJnuc5jmu1Wq+1ndHv9wEsl8tIJPIeo6Io2+0WQDabvb20cH2Hw8HzvGmas9nstbwzisUigG63e3dpoTQUChFRpVJ5vuuCQCCw2+0A+Hy+u+NHSwEcDgciMgxDFMX3SHVdbzabRMQYS6VSD351H1mW5/N5Pp93Op1vkz7ON/Nt2VDPIDuVAAAAAElFTkSuQmCC\"/></td><td style=\"padding:1px;\"><img width=\"64\" height=\"64\" style=\"image-rendering:pixelated; object-fit:cover;\" src=\"data:image/png;base64,iVBORw0KGgoAAAANSUhEUgAAABwAAAAcCAIAAAD9b0jDAAABuElEQVR4nO2VP6uCUBTA7wtFKSSHooampiiaGhr7Bk2NfoEIhGiLaDNoSIjb4OjQF2hpa7DaCoemlhBJiBzCTaF/b/Bx8b2n9a6vsd+kl3N+95zLPQrAm1fz8TSCpmmGYVqtlvsqy/J2uw2/YTQarVary+Xy6kHTNJ7nCYLA1tE0LQjCfD6/BpBKpfCMJElKkhSkcxFFMRKJYEgJgqhUKrquI8VmsxmPxzzP7/d7tEiSJF6xAIBisQghhBDm8/l4PO4uTiYTJC2Xy9hSX7zSTqcTFIZzLt+ZzWYvkFIUxTCM+3w6nVarVeiCvshmsxzHod4Hg0F4VyaTmU6ni8XCMAzvlTIMI5fLhTHW63XvHfrB8XgUBAFDx7KsoiiO4zwegfP5fDgchsNhs9lkWRal+3xQ0um0ruu40325XAAAFEUBAHwyu93uA6MoipqmNRoN75natt3r9SzLCtzzfr8H9dvv95PJpBsGIVRVVVVVy7JGo9GTRm63m69RURRk9FIqldAcB9Jut38bTdNMJBJPMh8Qi8UkSdrtdsi4Xq9rtdrfDYG/E47jCoWCLMumaTqOY9t2+DLf/J9PLNqQ3ZhlRyUAAAAASUVORK5CYII=\"/></td><td style=\"padding:1px;\"><img width=\"64\" height=\"64\" style=\"image-rendering:pixelated; object-fit:cover;\" src=\"data:image/png;base64,iVBORw0KGgoAAAANSUhEUgAAABwAAAAcCAIAAAD9b0jDAAABvklEQVR4nO3Ur6vyUBgH8EdQEcVfYWYR9F8wDJmgqEVY0GIQDP4Ds5uXBWEmQSwmk8liEBkyq5jUZHCowYWNo89uODC8977y7vKe8Ib7bduzfc7zcM4G8Jvf/Cn5fN4wDF3XU6kUGzGZTF4uF0RERJ7nf/Su912B5/l4PA4A5/P5dDo59/1+f6VSSafThmEMh0MAIITYtu1qNUEQaJubzQYAEolEoVBQFMU0TfycUqnkdgRFURCRENJsNtvt9n6/dxRd1zVNcy4lSXIlBgIBVVUR0bKs+XxOu3s8HpqmiaLIcVwoFBoMBhQVBMEVOpvNvsy4Xq+r1arzQC6XI4TQrr3etxvzKYfDweGu12utVvP5fE6V47jVakWrxWLRleiglmXJskzPwGskSULE5/Mpy7LbNgFgOp2qqtpoNL6XMpnM8XhERE3T3HJ/zW63o4OLoshGbLVaVByNRh6Ph4EYDoe32y1F6/U6AxEAstksFcfjcTAYZCBGIpHJZEI/gdcD+0/pdru2bSOiaZo//Wm9jbPpi8UiGo0yEHu9HhXv93ssFmMgAsByuUTE2+1WLpfZiADQ7/dN0+x0OszE/yUfmbo6q5QZLk8AAAAASUVORK5CYII=\"/></td><td style=\"padding:1px;\"><img width=\"64\" height=\"64\" style=\"image-rendering:pixelated; object-fit:cover;\" src=\"data:image/png;base64,iVBORw0KGgoAAAANSUhEUgAAABwAAAAcCAIAAAD9b0jDAAABz0lEQVR4nO2TPcviQBSFJ+tGAhIwNmoKrRRsBLEQsRE/KhEFxco/oaUfrZX4H4Qg2FskgulUsLAKQUitaQwjKFgkd7KF8PLCgsxKYIvdU957eObMcAah//p3xbzZFYtFv99fKpVUVUUI1Wq1YDDIMEy5XF6tVoPBwLIsqkNEURwOh8fj0TRN27YBAAAIIY/H4/F4AIBlWYZhAMByuaRNut1uE4mE4ziSJGGMN5tNq9Xa7/e6riOEOI7DGLMsezgcBEHw+XxUSXme53n+vaff7wOAYRhURErtdjtCSLVa9YyYy+Xu9/vtdovH455BLcsCgF6v5xkRIUQIAYB0Ov3G85MeJ4pioVBACDEMk8/nI5HIer3+JFcymWw2m5IkXS4XjPHz+Xwlfck0TV3Xu90ubdJUKjUejxuNBsdxDMO4rvu1kmVZ0zRVVU3TxBg7jkMVsFKpnM/nr0Tz+bxer3c6ndfvCofDn9xaURTXdU+n02w2i0ajr2EmkyGEKIryCREh1G63R6NRIBD4PlwsFgAwmUw+hP4ulmU1TQOAbDbrGTQWi12vVwCgMdP2VBCEUChEaf6D8n9v1Xv9oPTZtv3qo5dvihCaTqcAIMuyl9C/rF8Auu4vzKPxVAAAAABJRU5ErkJggg==\"/></td><td style=\"padding:1px;\"><img width=\"64\" height=\"64\" style=\"image-rendering:pixelated; object-fit:cover;\" src=\"data:image/png;base64,iVBORw0KGgoAAAANSUhEUgAAABwAAAAcCAIAAAD9b0jDAAAByklEQVR4nO2UrasqQRTAz8plQVEUDCJY3WZwkhvE6kcxjNgE/wMxiMliE7Fa1eSCRe1iuVo2GMQiaFNEBgRlg+7s3LDcRdh3d/145fHur+05Z37LmY8D8Ms/AWeREwQBIXS5XMLhMMdxkUikUCjoKYfDoWkaAOTz+cFg8OjfBEFYr9eKopzPZ1VVKaXqHcZnt9s1r/34SYoQut1uPM8bEUIIz/Mej8eILJfLTqdjXmvVfigUisVi99JGoxGNRgGA47jZbJbNZgkhVv1ak0gkRqOR0f5kMkmn06/rdCNjjFJKKT2dTs1m07reYWtMpVLD4VDTNMYYY8zpdN5v9ItIkmQ+/XelyWRyu932ej2M8Xw+16U+n+9dr4EoirrUdlufQ5IkSul0OnW73T/V2B+UGcZYPB73er1/UwoA+/3+er0+Kg0EAi6Xy1ba7/ePx+ND0lqtJstyu922lY7HY9saAIByuay/GUIIQuiPNdVqVa95yAgAmUxGn3KqqhJCcrmcKIpGVhCEer2uKMrTl79YLC4WC2NiHg6Hz282m40eX61WlUrlCSkA+P1+jDHGmBBinsq73e6t4YQQKpVKrVbLkMqyHAwGXzf+N3wBJlUwVZ56iqIAAAAASUVORK5CYII=\"/></td><td style=\"padding:1px;\"><img width=\"64\" height=\"64\" style=\"image-rendering:pixelated; object-fit:cover;\" src=\"data:image/png;base64,iVBORw0KGgoAAAANSUhEUgAAABwAAAAcCAIAAAD9b0jDAAABfUlEQVR4nO2UsarCMBSGD6UPoDiIizoonYQ+hQgiXdy6BHR1dXMVhM6ufQER7Jzq4jOIg75Au4m4HJPc4WDuRTBKdJL7TeFPzs9J/iQA/3wDm81GCBGGoVZ838+yTAhhqHIMc51Op9VqSSl7vZ4WgyAoFotSSss2GWOIiIi1Wo2UQqGQpimJlqZZliFiFEWu65JSr9fxhqHQtP1SqQQAp9Pper2SMhgMLBsk4jhWSh2PR600Go3dbiduGGrdRxNKKSllnudaSZKk2Wy+EpFp+wAwHo/12PM8PV6tVvamBGOMzmG/35OSJMm7ppPJpFqtbrfb4XD4yvqHUFDdbne5XOpk6IGlaWqufRLUbDbzPO9yuUynUy0qpSw7DYJACEH3fDQakbherxGRc25pCgBhGHLOOeflchkA+v3++Xx+1/QO/RU8NX0p/d/VjuM4TqVSYYzFcfxGhzd0p8Tft2CP7/uHw4EcF4vFBxyJ+XyOiHmet9vtj5nSf/rJ9L+RH/2/7s458w+oAAAAAElFTkSuQmCC\"/></td></tr></table>"
      ],
      "text/plain": [
       "<IPython.core.display.HTML object>"
      ]
     },
     "metadata": {},
     "output_type": "display_data"
    },
    {
     "data": {
      "text/html": [
       "<table class=\"show_images\" style=\"border-spacing:0px;\"><tr><td style=\"padding:1px;\"><img width=\"64\" height=\"64\" style=\"image-rendering:pixelated; object-fit:cover;\" src=\"data:image/png;base64,iVBORw0KGgoAAAANSUhEUgAAABwAAAAcCAIAAAD9b0jDAAAC8klEQVR4nO2VsUvjUBzH82LSprGtQhsoiOiiqEMKxcGAuDiI2CLUvYt/gJNOoqv/gyJYXKRd1EWpiSK4W4Rgqk0sWluwxhab1IbkvRvK3ckl1np3y8F9x+T3+7xPXvJ7wbD/+dsBHRUB4Ha7SZJECBmGYRjGny6L4/jQ0NDW1paqqvl8PpvNrq6uDg8PA9CRkEMIguA47vj4WNd1y7Iqlcrr62u5XBYEIR6P4zj+O1Cv17u7u/v09GQYhqIom5ubJycnt7e3pVKpUCj09PQ4q7QhAgCCwWAkEqEoql6vp9Pp7e1tmqY9Hs/09HQikYjH48lk0rKsL2iSJBmNRm9uborFIs/zk5OTPp+v9cZYlpVlWZKkaDT6pUfH/H5/MpmsVquZTGZ8fNzr9RIEAQAAANA0LQjC8/PzxsaGvfHDncZxfHBwkOM40zRPT09lWTZNE0KIEEIImaaZzWYty2IYxv4ZtIMuLCy4XK6jo6PDw0NN05rNJoSwddcwjP39fV3Xp6amurq6OoUSBDExMYFh2NnZmaIohmEghN4X5PN5SZJeXl5+ud4OGggEWJa1LIvneU3T7J2qqrrdbl3XO4W2poiiKFmWa7WaYw2EEEJ4cXHxY08+gbpcrrW1td7e3oGBAZqm7S4Yhs3Pz4fD4VKp5EhwSCAQyOVyjUaD5/lQKGQv8Pl8oigWCoWRkZFOoTMzM81m8+3tLRaLOQ54LBZrNBqXl5ckSXZEBAAkEolarSbLMkVR9gKPx8PzvK7rc3NzjgQHC4SQoiiapkEI/X6/fcnFxcVIJCKKYiaT6UizlWAweHBwcH9/v76+3t3d/VMBx8Ph8OPjYy6XY1n2o3bnU0rTtPPzc4ZhZmdnCYLY2dlRVZVhmOXlZY7jqtXqysrK1dXVFzRbRv39/UtLS6IoSpJULBbv7u6ur68fHh5SqdTo6Gj7Y9/ZFEJYLpfT6fTY2FhfX18oFKrX65VKZW9vTxAEx9F8n0/+M+B7EEL2yfn38w2JA3VqEvYhCQAAAABJRU5ErkJggg==\"/></td><td style=\"padding:1px;\"><img width=\"64\" height=\"64\" style=\"image-rendering:pixelated; object-fit:cover;\" src=\"data:image/png;base64,iVBORw0KGgoAAAANSUhEUgAAABwAAAAcCAIAAAD9b0jDAAAC7UlEQVR4nO2UPUvkUBSGc+9NJvEjoug4+AEZdURBJkQLsRDBRhQLKxt7Swt/gqV/QcE/YKGChajYWQgqikTiiDgmSNRIJibEfExy7xZhZ3XcRXe7Zfet73k47z3vORT1X3+FwO8WQAhpmsbfBQAghFS9ob/IYhiG4zie5yVJ8n3fdV3DMHRdD4LgI/TzTpPWWltbc7nc0NDQwsIChNBxHEVRlpaWZFkmhFRx4adQhBDHcZIkzczMzM3NpVIpwzAsy2psbJyfnxdFkWGYqpLP7WOMCSGGYTiOc3Nzs7a2ZppmV1eXJEm5XG52dnZ5eTkMw9+DxnHsuu7Z2dnFxQVCiKKohoYG0zTHx8ebmpps26bpasiXBoUxDoKAoigAAMuy9fX1nZ2dpmmenp5ubGy4rvsnUIqiIIQIoUwm09/fPzU11dfXd3JysrW1pWlaFEVVwaqGfswdAIDjuHQ6PTIyks/nh4eHe3p67u/vd3Z2Li8vKw5+CYUQ8jwfRVEYhgihwcFBmqYVRZmenp6YmBBF0TTNdDqtadrKyoosy+VyufI/v7SPEMrn84m79vZ2jPHDw8P19fXk5GQ2m+V5/unpSdf13d1dRVEQQgghCCEhJNmuH+be2hwYGFhdXc1kMmEYWpZ1dXUVx7EgCL29vW1tbRBC3/dt2769vVVVVVXVQqHQ3d0ty7LjONvb2xXuj05Zll1cXBRF0bZtwzBUVX18fKyrqyuVSrquJz5qamp0XT88PMxms4IgjI2NdXR0lEol13X39/dfX1/fQQEADMOIolhbWxvHsed5Sfp839c0bX19/ejoiBBSCWayZoIgBEEwOjpKCEkm9g5KCIEQep7nOE65XG5paWFZNpVKFYvFYrF4cHBgmibG+O7uDgCQzBpCeH5+jhA6Pj5OWvnJoBiG2dvbsyzr+fnZsizbtguFwubmpud5b+NSOR8JBWNsGAaE724IeAttbm5GCEVR9PLyEoZhVVD+66v6eLj+JX0DAUWbcAPnsDwAAAAASUVORK5CYII=\"/></td><td style=\"padding:1px;\"><img width=\"64\" height=\"64\" style=\"image-rendering:pixelated; object-fit:cover;\" src=\"data:image/png;base64,iVBORw0KGgoAAAANSUhEUgAAABwAAAAcCAIAAAD9b0jDAAACnklEQVR4nO2Uv07yUBTA7+29tmkbFSRACjEpJi4Gg4lxI5LgA7gwydCBJ2D1IVx8BRc3FkICE8ZIwqCDJIRANID8qRqIFlpoaa+Di5/Uil8c/a33nF/OufeeA8Aff/wcCOGXR98mUxS1vLzs8/lEUdQ0LRQKbW9vY4xvbm6y2exwOCSEfErBDoUwDMOyrM/nOzo6SiQSLMsCANbW1izLWlpaGgwGXq/39PTUMIxFpQzDiKKYSqWi0ejGxsbq6qqqqsPhcDKZWJbFcZwgCOFwGCG0qNTlcqXT6UQiIYoiRVGGYciyXK1Wb29v6/W62+1Op9MejwdjPJvN5tNtpBDCaDQqSZLH4zEMo16vn5+fX1xcdLtdAICu63t7e8/PzxzHFYtF0zQXkgqCkEwmMcadTufh4aFQKJRKpU6nMxgMdF3nOM7v9weDQZqmW63W/CvZSDHGBwcHKysriqJ0u92zs7NGo1Gr1VRVnU6nhBCe5/f39xmG6ff75XLZ9vaoT41zHAcA6Pf70+n06enp7u6uVqu9vr6qqkoIQQjxPB+LxSCEx8fHLy8vttJ/KiWEKIqSyWRkWW6325eXl5VKRVGU94sjhBBCgsGgy+VqNpuZTMbWaM/7D8UYz88MRVEnJyeEkHw+7zBRP4NhmOvra9M0JUn6HSMAYGtrS9M0TdM2NzcdwiiHs08ghCRJghDmcrlWq/U7Up7nDw8PEUJXV1e6ri+e6EQ8Hpdludfrra+v/46RpulisWhZ1v39PU3TzsGLtu/3+3d2dgAA2Wx2fi39jxRCuLu7CwAwTbNarX4b/+U+/QjLsuFweDweW5Y1m80QQrYb7wdShJAgCLquj0ajRqNRqVRsN9NHvh81CCHP84FAIBKJlEqlx8dHwzCcvW/zXDUEmJU1jwAAAABJRU5ErkJggg==\"/></td><td style=\"padding:1px;\"><img width=\"64\" height=\"64\" style=\"image-rendering:pixelated; object-fit:cover;\" src=\"data:image/png;base64,iVBORw0KGgoAAAANSUhEUgAAABwAAAAcCAIAAAD9b0jDAAADuUlEQVR4nO2VzU/qShjGOx3oBwUK4hdGE1ExEgmu6wISE4Mx7t34sXXnxv/GjW5NDAsWxpUmmuhCiMFgUBO1qEFJwQKp7bTTzl005+Yew/V4zvo8y+k7vz7vvH06FPVX3xYA4FtlXzyDELIsOzAwwLKsaZqiKA4ODhaLRUVRbNv+E1Mcx0mSdHBwoChKtVotFAqVSuXu7m53d1eSJI/H89vESCSysbFxfX2NEHIcx3EcjLFt2xhjTdNOTk5SqRRN079BhBBubW09PDwYhmHbtq7rGGOMsWmauq67Kzs7O+Fw+P8IXbrgOK7RaNzf33Mcx3Fcu91ut9sIoVAoBAAYHh7mOG5paenw8HBvb6/r4XaBIoRyuVytVlteXhZFsVKpFAoFiqL6+voAAJubm/F4nOf5TCaTy+W+C8UYt1qt4+PjYrEIADBN0+Px9PT0CIIgCALGmKZpnucTiUQgEDAM41tQiqIIIYZhIIQoigIAAAA0TQsEAtPT0wghy7Lc6YXD4Uaj4TjOp+1fTRBCSFGU4ziEEJ7nY7HYyspKIpGAEFqWdXFxoSgKIeS7Tl15vV7XBcuyyWRybW1tfn6eYRjbtpvN5vn5uWVZFEXRNE3TtOvAbe4rqN/vZ1mW47jx8fHV1dXFxcVIJAIhdHtPJpNnZ2cIIZ7ng8Egy7Kqqron0wUKAGAYpre3N51Op1KpiYmJaDQ6MjISDodpmrZt2zCMTqczOjq6sLAgy3IkEvH5fC8vL6VSqXv7AAC/359Op+fm5jKZjCiKPp+PYRiWZRmGAQA4jmPbdn9/fzabnZ2dtSyLENJqtcrlcrPZVBSlCxRCODk5ub6+LklSMBiEEBJCIIRuKAkhlmVpmiYIAoRQFEUAgK7rFEXxPE/9+I19nr7f789mszMzM+4Gt8gNqBvWTqcjy3K73TZNkxCCEDJNU1EUVVVFUXTf/ZNTAADLstFo1AURQliWBQB8fHxomvb+/l6r1UqlUrVa1XU9Go0GAoGhoSEI4fPzsyzLrVbLDdhPUJqmBUHwer2iKAaDwX9tIoSurq5ub28rlUo+nzcMgxASj8dVVQ2FQoIgdDqder3ebDa7QCGEgiCAH7Jt27Kser1+enq6vb0ty7KqqpqmucU3NzcY49fXVwghxtidWJfpW5b19PSUz+enpqbGxsZ0Xb+8vNzf3y+Xy4+Pj4ZhuF+oW+yeD8bYbei/0fp8nQAAfD6fJEmxWIwQcnR09Pb2hhDCGBNCAABdc/lrAQA8Hg9N039yZ/wVRf0DAWIRdmPjnp0AAAAASUVORK5CYII=\"/></td><td style=\"padding:1px;\"><img width=\"64\" height=\"64\" style=\"image-rendering:pixelated; object-fit:cover;\" src=\"data:image/png;base64,iVBORw0KGgoAAAANSUhEUgAAABwAAAAcCAIAAAD9b0jDAAADB0lEQVR4nO2Uv0vzWhjHc/LjmMYTbRGEmFDEYAWxUEIFoSCCOoiLk4Pi6OT/4Z5VRFy6KIIuBQenLg6KIGYo6FBsFTUNNjYhnvw47xB48cbeW99buNP9TuckPJ/zfZ5znoei/td/IJqm+yUk9izLZrNZAAAAgKIohmF+r38uNnkITdM0zTAMhBAhNDU11el0giC4v7/3PI8Q8h0BAEh8T1oAAKRSqTAMc7nc7Ozs8vIyAIDn+Wq1WqlUHh4eIIQcxwEAfN+PoiiKIoxxGIb/5JQQ4nnewMCAJEmlUml+fp7n+Var9fj4mM1mEUKyLNu2XSwWx8fHFUUxDEPX9ZeXl69mk1CKouLzgyAYGhpCCLEsCwAYGRlRVXVpaUlRlHa7PTc3hxASRTGTyezv7/eoaSyEUD6fL5VKCKEgCOKyFIvFyclJ13UxxhDCdDqdyWQ8zxscHPwRVBTFmZkZURQpinp/f280GqZpmqZJ0/Tz8zNN0xcXF4VCQdM0z/Mcx+kNjZPN5XIMw/i+b1lWuVy+ubkhhCiKUq/XTdNcWVlZW1sLguDy8vLt7e1HUJZlIYQY40ajsbu7e3Z2Fl/x7e0twzCiKObzeZZla7WaruuO4ySeVBeoIAiqqgqC8PHxcXJycn5+7rpuHEYIIYSoqrq6usrz/NXVlWEYiffUBQoAoGm61WrVajXLsg4PD23b/m2EEMKy7MbGxtjYWFwWjPF3W11yhxAODw/LspxOpxmGSfydmJhot9u+7x8fH0MIexO/Bn9veQCAKIoHBwcYY8uyNE37A+LfCUK4vb3d6XQ+Pz+Pjo5SqVS/RIZhFhcXm81mEATX19eFQiFRmX+j0dHR09NTjLHneTs7O4Ig9Dt2EUKbm5tPT0++79/d3UmS1C+R4zhN0wzDiKIoDMNKpQIh/NOx/RcBAGRZLpfLcdu4rru1tdWT2CMLAIAkSdPT0xzHBUFQr9er1WrX+f9V3afUV9m27TgOxvj19XVvb6/ZbPYM6aG4wRYWFnRdX19fRwj1S0zQf345vwA4u2G8wRJaJQAAAABJRU5ErkJggg==\"/></td><td style=\"padding:1px;\"><img width=\"64\" height=\"64\" style=\"image-rendering:pixelated; object-fit:cover;\" src=\"data:image/png;base64,iVBORw0KGgoAAAANSUhEUgAAABwAAAAcCAIAAAD9b0jDAAADdklEQVR4nO2Uz0syWxjHz5k5zjiMpqNMmDRTpiTYQhe2laB1EC37d/pH3LYSN4VBRAUvFGRSEQkhoo79mLL5oTnOnJm5iwHhqtX7cu/mwv3uzuL5nO9znu95APhf/wnByTOEEELXdRFCJEkihMLh8PPzs+M4rutCCP1+fzAYFASh0Wioqmrb9jQUTRARQsvLy8FgsFAo2LadTCZzudz5+fnj4+NgMKjX69lsdmVlJZfL7e/vl8vln6EkSSYSib29PVEUl5aW3t7eHMfRNI3n+ff3d47jZFnOZrOFQkEURYzxycmJYRjfQSGEJEnyPE/TNMuy19fXlUrFsqy5ublarabrejweD4VCkUhEFMVIJMJxHEVR3lt9CXVdF2MsSdLNzU2/3y8Wi9VqFWNMEMRgMPD6YFk2nU7v7OzYtv3y8uI4zsxB/a1927ZlWS6VSplM5uHhQVVVr8wbEcbYcZxms8kwDEEQsixjjKdtTkIBAMPhsN1uMwyjKIo38XEfAADHcXiehxACAPx+/3A4/NkpAIBhmLW1NY7jvMoJBYPBra0tgiD6/f7Z2RlBECRJTgeAmDjTNO3z+XRdZ1kWITRGQwgpisrn8/F43DAMSZJ0XV9cXGRZliRJkiS/c6ooSrVaDQQCHMchhD4+PkzTRAiFQqF0Or27uyuKIsMwPM9vbm5eXl4ahmGapmVZ30Edx1FV1bKsWCy2sbHx9PTU6/UKhUI8Hl9dXU0kEgzD2LZtWVYymVQUpdFodLvdiRhMQj3uaDRCCG1vbycSCYxxNBrVNE0QBIqiAACqqnY6nXq9fnp6KknSdAZmQF3XtSyr0+nouh6NRjHGsiz3+31BECCEhmE0m81SqVQul3VdDwQC04OaAR37PTo6isVio9Go0+lYlpVKpUiSlCSpWCweHBxIkuS6rizL019gBtRbVJqmVSqVWq3GMAzDMOvr65qm0TTdarXu7u7a7fZoNPrK0Oz2XdfVNE3TtFar5fP5stlsNBqlaRpCeH9/f3t7O3OPjDWZ0+kLbNsOh8P5fN77Zr9+/VIU5fuqH6AAAIqiBEGYn593Xffq6uri4mLmDv0zqOM4LMtijF9fXw8PD70l+0+hAIBut9vr9T4/P1OpVCaTCQQCMzfDWF9GaizTNI+PjxFCCwsL1WpVkiTTNH/Hym/Ji9q/hvtT/QX2PuERpBZ/uQAAAABJRU5ErkJggg==\"/></td><td style=\"padding:1px;\"><img width=\"64\" height=\"64\" style=\"image-rendering:pixelated; object-fit:cover;\" src=\"data:image/png;base64,iVBORw0KGgoAAAANSUhEUgAAABwAAAAcCAIAAAD9b0jDAAADlElEQVR4nO2US0s6XRzHz5w5M+NldBwbNS0XLowsyLCdERVB6CaoqE3SKoJeQC8gWrboHbRtUWCLtkG4CKPLIos0IhQLQ4zGW+Pcn4XQ02X0zwPP6uH5Ls/5nc98f7cB4H/928K63WEYQohlWVEUW62WJEm6rv8I+HHSDYphGISQpuloNDo5OTkwMGC32xVFOT09FQSBoiiGYXK5nKZpLy8vhULh+flZluXPDxhAIYQkSbrd7unp6bW1tUAg4HA4dF3HMEyWZQihrusURYmi2Gw2b29vz87OkslkNpuVJKlNQL+huq5DCK1Wq6qqpVJJVVWfzwcAUFWVIAiGYSiKghAihEiSbIdRFKUoyifhJxTDMJPJBCHkeT6bzTqdTo/HUywWy+UywzBDQ0PDw8M+n8/j8QiCUC6Xz8/P0+n029vb1+L+TB/HcYIgZFlGCFEUxXGcz+dzu90AAJPJhBCKRCIul0sQhIODg4eHh3K5LAiCpml/aBSEEABAEARJkoFAYH5+PhqNyrJcqVRyuVyz2SyVSpeXl6VSSRRFw+4b1xQhZDabHQ5HPB6fm5sLBAI4jlcqFY7jDg8PU6lUpVJRVfX3225QDMMcDsfMzMzIyAhCqF0NjuPGx8fNZnOhUEilUp2IxukDANrQUCjk9XoZhpmamhobG+vt7UUIvb6+Xl9fr6+v1+v1LtwOKSBkMpksFgtN0yzLjo6Orq6uXl1d3d/f5/P5paUlDOu2jR1S+PUGIbS4uJhMJmu1WiqVcrlc/xhqKKvVurGxUavVqtXq5uZmpzD41RqEEMfx9kgZ6uPj4+7uTpZli8USi8UQMugz+Np9HMd7enoYhuF5nuf5z0X+ZgFCu91utVp1Xc9kMp2mCn3axDAsHA5HIhFFUY6Pj7PZ7O9om80Wj8d1Xa/X65lMxnDyvzllWXZ2djYcDjudTpZlt7e3W63WV480TS8vLy8sLCCEGo3G09OTIfEblKZpkiT9fn9/f7/X6wUA7O/v5/N5AABJkqFQKJFITExM2Gy2RqNxdHR0c3PT6SeNPo3wPJ9Op/v6+tqzmUgkYrGY3+8XRZGmaYIgKIpSVVVRlIuLi729vWq12in9v4XjOMMwwWBwa2srk8lIkiRJkqZpiqLouq5pWqvVenx83NnZCQaDFEV1GX6DC4TQ4ODgyspKOBwOhUI8z3McVywWT05Odnd339/f/2ywi9ojAYy267+ivwDN+pHjkfc+XQAAAABJRU5ErkJggg==\"/></td><td style=\"padding:1px;\"><img width=\"64\" height=\"64\" style=\"image-rendering:pixelated; object-fit:cover;\" src=\"data:image/png;base64,iVBORw0KGgoAAAANSUhEUgAAABwAAAAcCAIAAAD9b0jDAAAC2ElEQVR4nO2Vz0rzShjG35lM2kxibKK4aCnuujO4UEEUBLeuBTeuvBFvQbwEL0JwKwguVVCqYkXQ0lgoNGmTTDJ/vsXA4fA19TuBszlwnl1m3jzzzJvfZAD+178t9NMcQgghAFBKYYyllBjjWq3meV6aplmWZVlWzdQ0zSAIms3m8/PzaDTK85wQ0mq1Tk5ONjY2er3e2dnZ09OTEGL2XTIv49LS0unpabPZPD8/v7q6EkJwzhFCnU6n0+mUev3BFADa7fbW1paOLIQoigIAGGOWZdVqtSRJOOfVTBFCm5uby8vLjLHhcDgej3W0dru9vr7u+36j0QjDUEpZLeni4iJCSAgxmUz0MpZl7e/vu64LAIPBIE3TakkBwLIsQki9Xo/j2DAMjLHjOHt7e5RSAMAYCyGUUhVMMcYrKytSyjzPpZSO40gpG42Gbdu6YDgczts7AODSUcMw1tbWDMMAANM0TdM0DMN13YWFBQ2vUkojXCGpaZoYY6VUURStVosQMp1Od3d3bduWUjLGXl5eAEC7V9h+v98vioJSenx83O/3v76+Dg4OPM8DAMbY9/e3XrVCUillt9uN49hxnO3tbYQQY0zDwBgbj8cIIdu2GWPlmUpHhRBvb28fHx9KKc/zKKWcc0qpRsJ1Xd/3pZTz2lqelHN+d3d3eXnpOE5RFEmSZFlGKdU8FEXBOeecE0I0WL/1YS6njLFer/f4+Pj5+TkYDKIoOjo6CoKAUiqE8DwPY1yv19M0nWVr7jGN4/j29vb6+jqOY6XU6urqzs5OEAQaKd/3Pc8bjUaltJab5nkehmEYhgCAMUYITafTbrd7eHhoGAZCiBCS53me5xWQ+rt0FsYYY0wIoR+jKJpMJvrXNavyr19q/fr6mue5jqkP7rzif2oKAA8PD/f39/oWUUqZplkNqVkppd7f3y8uLqIoSpLk5ubmh+KfLr5ZYYwJIUqpv5r7H9cvR1eSzEqPKGIAAAAASUVORK5CYII=\"/></td></tr></table>"
      ],
      "text/plain": [
       "<IPython.core.display.HTML object>"
      ]
     },
     "metadata": {},
     "output_type": "display_data"
    }
   ],
   "source": [
    "key, subkey = jax.random.split(key)\n",
    "image_index = jax.random.choice(subkey, image_test.shape[0], shape=(8,))\n",
    "image = image_test[image_index]\n",
    "\n",
    "key, subkey = jax.random.split(key)\n",
    "keys = jax.random.split(subkey, 8)\n",
    "image_recon, _, _ = nnx.vmap(vae)(image, keys)\n",
    "\n",
    "mediapy.show_images(image, width=64, height=64)\n",
    "mediapy.show_images(jax.nn.sigmoid(image_recon), width=64, height=64)"
   ]
  }
 ],
 "metadata": {
  "kernelspec": {
   "display_name": "base",
   "language": "python",
   "name": "python3"
  },
  "language_info": {
   "codemirror_mode": {
    "name": "ipython",
    "version": 3
   },
   "file_extension": ".py",
   "mimetype": "text/x-python",
   "name": "python",
   "nbconvert_exporter": "python",
   "pygments_lexer": "ipython3",
   "version": "3.12.4"
  }
 },
 "nbformat": 4,
 "nbformat_minor": 2
}
