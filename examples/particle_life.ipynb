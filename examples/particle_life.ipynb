{
 "cells": [
  {
   "cell_type": "markdown",
   "metadata": {},
   "source": [
    "# 1D-ARC Neural Cellular Automata"
   ]
  },
  {
   "cell_type": "markdown",
   "metadata": {},
   "source": [
    "## Installation"
   ]
  },
  {
   "cell_type": "markdown",
   "metadata": {},
   "source": [
    "You will need Python 3.10 or later, and a working JAX installation. For example, you can install JAX with:"
   ]
  },
  {
   "cell_type": "code",
   "execution_count": null,
   "metadata": {},
   "outputs": [],
   "source": [
    "%pip install -U \"jax[cuda12]\""
   ]
  },
  {
   "cell_type": "markdown",
   "metadata": {},
   "source": [
    "Then, install CAX from PyPi:"
   ]
  },
  {
   "cell_type": "code",
   "execution_count": null,
   "metadata": {},
   "outputs": [],
   "source": [
    "%pip install -U \"cax[examples]\""
   ]
  },
  {
   "cell_type": "markdown",
   "metadata": {},
   "source": [
    "## Import"
   ]
  },
  {
   "cell_type": "code",
   "execution_count": 1,
   "metadata": {},
   "outputs": [
    {
     "name": "stderr",
     "output_type": "stream",
     "text": [
      "2025-02-24 02:10:17.361561: W external/xla/xla/service/gpu/nvptx_compiler.cc:930] The NVIDIA driver's CUDA version is 12.5 which is older than the PTX compiler version 12.6.77. Because the driver is older than the PTX compiler version, XLA is disabling parallel compilation, which may slow down compilation. You should update your NVIDIA driver or use the NVIDIA-provided CUDA forward compatibility packages.\n"
     ]
    }
   ],
   "source": [
    "import json\n",
    "import os\n",
    "\n",
    "import jax\n",
    "import jax.numpy as jnp\n",
    "import mediapy\n",
    "import optax\n",
    "from cax.core.ca import CA\n",
    "from cax.core.perceive.conv_perceive import ConvPerceive\n",
    "from cax.core.perceive.kernels import grad_kernel, identity_kernel\n",
    "from cax.core.update.residual_update import ResidualUpdate\n",
    "from flax import nnx\n",
    "from tqdm.auto import tqdm\n",
    "\n",
    "\n",
    "jax.config.update(\"jax_enable_x64\", True)\n",
    "key = jax.random.key(0)"
   ]
  },
  {
   "cell_type": "code",
   "execution_count": 2,
   "metadata": {},
   "outputs": [],
   "source": [
    "num_dims = 2\n",
    "dt = 0.02\n",
    "t_half = 0.04\n",
    "friction_factor = jnp.power(0.5, dt / t_half)\n",
    "\n",
    "num_particles = 1024\n",
    "num_classes = 6\n",
    "r_max = 0.1\n",
    "\n",
    "# Attraction matrix\n",
    "key, subkey = jax.random.split(key)\n",
    "A = jax.random.uniform(subkey, (num_classes, num_classes), minval=-1., maxval=1.)\n",
    "\n",
    "# Class\n",
    "key, subkey = jax.random.split(key)\n",
    "classes = jax.random.choice(subkey, num_classes, (num_particles,))\n",
    "\n",
    "# Position\n",
    "key, subkey = jax.random.split(key)\n",
    "positions = jax.random.uniform(subkey, (num_particles, num_dims), minval=0., maxval=1.)\n",
    "\n",
    "# Velocity\n",
    "velocities = jnp.zeros((num_particles, num_dims))\n",
    "\n",
    "\n",
    "attraction_factors = A[classes[:, None], classes[None, :]]"
   ]
  },
  {
   "cell_type": "code",
   "execution_count": 3,
   "metadata": {},
   "outputs": [],
   "source": [
    "beta = 0.3\n",
    "def get_forces(distances, attraction_factors):\n",
    "    distances /= r_max\n",
    "    return jnp.select(\n",
    "        condlist=[distances <= beta, (distances > beta) & (distances <= 1)],\n",
    "        choicelist=[distances / beta - 1, attraction_factors * (1 - jnp.abs(2 * distances - 1 - beta) / (1 - beta))],\n",
    "        default=0.\n",
    "    )"
   ]
  },
  {
   "cell_type": "code",
   "execution_count": 4,
   "metadata": {},
   "outputs": [],
   "source": [
    "directions = positions[:, None, :] - positions[None, :, :]\n",
    "distances = jnp.linalg.norm(directions, axis=-1)\n",
    "directions_norm = jnp.where((distances == 0)[..., None], 0., directions / distances[..., None])"
   ]
  },
  {
   "cell_type": "code",
   "execution_count": 5,
   "metadata": {},
   "outputs": [],
   "source": [
    "force_factor = 10.\n",
    "\n",
    "@jax.jit\n",
    "def get_accelerations(positions):\n",
    "    # Calculate periodic distances in each dimension\n",
    "    pos_diff = positions[None, :, :] - positions[:, None, :]\n",
    "    pos_diff = jnp.where(pos_diff > 0.5, pos_diff - 1.0, pos_diff)\n",
    "    pos_diff = jnp.where(pos_diff < -0.5, pos_diff + 1.0, pos_diff)\n",
    "\n",
    "    # Calculate distances and normalized directions with periodic conditions\n",
    "    distances = jnp.linalg.norm(pos_diff, axis=-1)\n",
    "    directions_norm = jnp.where(jnp.eye(num_particles)[..., None], 0., pos_diff / distances[..., None])\n",
    "    directions_norm = jnp.divide(pos_diff, distances[..., None], where=distances[..., None] != 0.)\n",
    "\n",
    "    forces = get_forces(distances, attraction_factors)\n",
    "    return force_factor * r_max * jnp.sum(forces[..., None] * directions_norm, axis=1)\n"
   ]
  },
  {
   "cell_type": "code",
   "execution_count": 6,
   "metadata": {},
   "outputs": [],
   "source": [
    "# Class\n",
    "key, subkey = jax.random.split(key)\n",
    "classes = jax.random.choice(subkey, num_classes, (num_particles,))\n",
    "\n",
    "# Position\n",
    "key, subkey = jax.random.split(key)\n",
    "positions = jax.random.uniform(subkey, (num_particles, num_dims), minval=0., maxval=1.)\n",
    "\n",
    "# Velocity\n",
    "velocities = jnp.zeros((num_particles, num_dims))\n",
    "\n",
    "position_list = [positions]\n",
    "for i in range(1024):\n",
    "    accelerations = get_accelerations(positions)\n",
    "    velocities = friction_factor * velocities + accelerations * dt\n",
    "    positions += velocities * dt\n",
    "\n",
    "    # Apply periodic boundary conditions\n",
    "    positions = positions % 1.0\n",
    "\n",
    "    position_list.append(positions)"
   ]
  },
  {
   "cell_type": "code",
   "execution_count": null,
   "metadata": {},
   "outputs": [],
   "source": [
    "from IPython.display import HTML\n",
    "import matplotlib.pyplot as plt\n",
    "import matplotlib.animation as animation\n",
    "import numpy as np\n",
    "\n",
    "# Increase animation embed limit to 50MB\n",
    "plt.rcParams['animation.embed_limit'] = 50*1024*1024\n",
    "\n",
    "# Sample random colors for each particle\n",
    "colors = plt.cm.rainbow(np.linspace(0, 1, num_classes))\n",
    "particle_colors = colors[classes]\n",
    "\n",
    "# Create figure and axis\n",
    "fig, ax = plt.subplots(figsize=(8, 8))\n",
    "ax.set_xlim(0, 1)\n",
    "ax.set_ylim(0, 1)\n",
    "ax.set_facecolor('black')\n",
    "fig.patch.set_facecolor('black')\n",
    "\n",
    "# Initialize scatter plot\n",
    "scatter = ax.scatter(position_list[0][:, 0], position_list[0][:, 1], c=particle_colors, s=10)  # Reduced size with s=30\n",
    "\n",
    "# Animation update function\n",
    "def update(frame):\n",
    "    scatter.set_offsets(position_list[frame])\n",
    "    return scatter,\n",
    "\n",
    "# Create animation\n",
    "anim = animation.FuncAnimation(\n",
    "    fig, update, frames=len(position_list),\n",
    "    interval=50, blit=True\n",
    ")\n",
    "\n",
    "plt.tight_layout()\n",
    "\n",
    "# Display animation\n",
    "HTML(anim.to_jshtml())\n"
   ]
  }
 ],
 "metadata": {
  "kernelspec": {
   "display_name": ".venv",
   "language": "python",
   "name": "python3"
  },
  "language_info": {
   "codemirror_mode": {
    "name": "ipython",
    "version": 3
   },
   "file_extension": ".py",
   "mimetype": "text/x-python",
   "name": "python",
   "nbconvert_exporter": "python",
   "pygments_lexer": "ipython3",
   "version": "3.12.6"
  }
 },
 "nbformat": 4,
 "nbformat_minor": 2
}
