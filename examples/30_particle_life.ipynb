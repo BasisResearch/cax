{
 "cells": [
  {
   "cell_type": "markdown",
   "metadata": {},
   "source": [
    "# Particle Life [![Colab](https://colab.research.google.com/assets/colab-badge.svg)](https://colab.research.google.com/github/maxencefaldor/cax/blob/main/examples/30_particle_life.ipynb)"
   ]
  },
  {
   "cell_type": "markdown",
   "metadata": {},
   "source": [
    "## Installation"
   ]
  },
  {
   "cell_type": "markdown",
   "metadata": {},
   "source": [
    "You will need Python 3.10 or later, and a working JAX installation. For example, you can install JAX with:"
   ]
  },
  {
   "cell_type": "code",
   "execution_count": null,
   "metadata": {},
   "outputs": [],
   "source": [
    "%pip install -U \"jax[cuda12]\""
   ]
  },
  {
   "cell_type": "markdown",
   "metadata": {},
   "source": [
    "Then, install CAX from PyPi:"
   ]
  },
  {
   "cell_type": "code",
   "execution_count": null,
   "metadata": {},
   "outputs": [],
   "source": [
    "%pip install -U \"cax[examples]\""
   ]
  },
  {
   "cell_type": "markdown",
   "metadata": {},
   "source": [
    "## Import"
   ]
  },
  {
   "cell_type": "code",
   "execution_count": null,
   "metadata": {},
   "outputs": [],
   "source": [
    "import jax\n",
    "import jax.numpy as jnp\n",
    "import mediapy\n",
    "from cax.models.particle_life import ParticleLife, State\n",
    "from flax import nnx"
   ]
  },
  {
   "cell_type": "markdown",
   "metadata": {},
   "source": [
    "## Configuration"
   ]
  },
  {
   "cell_type": "code",
   "execution_count": 2,
   "metadata": {},
   "outputs": [],
   "source": [
    "seed = 0\n",
    "\n",
    "num_dims = 2\n",
    "num_particles = 2048\n",
    "boundary = \"CIRCULAR\"\n",
    "\n",
    "# Physics\n",
    "num_steps = 1024\n",
    "dt = 0.01\n",
    "velocity_half_life = dt\n",
    "friction_factor = jnp.power(0.5, dt / velocity_half_life)\n",
    "\n",
    "# Attraction\n",
    "num_classes = 6\n",
    "r_max = 0.15\n",
    "beta = 0.3\n",
    "force_factor = 1.0\n",
    "\n",
    "key = jax.random.key(seed)\n",
    "rngs = nnx.Rngs(seed)"
   ]
  },
  {
   "cell_type": "markdown",
   "metadata": {},
   "source": [
    "## Init state"
   ]
  },
  {
   "cell_type": "code",
   "execution_count": 3,
   "metadata": {},
   "outputs": [],
   "source": [
    "def init_state(key):\n",
    "\tkey_class, key_position = jax.random.split(key)\n",
    "\n",
    "\t# Class\n",
    "\tclass_ = jax.random.choice(key_class, num_classes, (num_particles,))\n",
    "\n",
    "\t# Position\n",
    "\tposition = jax.random.uniform(key_position, (num_particles, num_dims), minval=0.0, maxval=1.0)\n",
    "\n",
    "\t# Velocity\n",
    "\tvelocity = jnp.zeros((num_particles, num_dims))\n",
    "\n",
    "\treturn State(class_=class_, position=position, velocity=velocity)"
   ]
  },
  {
   "cell_type": "markdown",
   "metadata": {},
   "source": [
    "## Model"
   ]
  },
  {
   "cell_type": "code",
   "execution_count": 4,
   "metadata": {},
   "outputs": [],
   "source": [
    "# Attraction matrix\n",
    "key, subkey = jax.random.split(key)\n",
    "A = jax.random.uniform(subkey, (num_classes, num_classes), minval=-1.0, maxval=1.0)\n",
    "\n",
    "ca = ParticleLife(\n",
    "\tnum_classes=num_classes,\n",
    "\trngs=rngs,\n",
    "\tr_max=r_max,\n",
    "\tbeta=beta,\n",
    "\tboundary=boundary,\n",
    "\tdt=dt,\n",
    "\tvelocity_half_life=velocity_half_life,\n",
    "\tforce_factor=force_factor,\n",
    ")"
   ]
  },
  {
   "cell_type": "markdown",
   "metadata": {},
   "source": [
    "## Visualize"
   ]
  },
  {
   "cell_type": "code",
   "execution_count": 11,
   "metadata": {},
   "outputs": [],
   "source": [
    "state = init_state(key)\n",
    "\n",
    "states = ca(state, num_steps=num_steps, all_steps=True)"
   ]
  },
  {
   "cell_type": "code",
   "execution_count": null,
   "metadata": {},
   "outputs": [],
   "source": [
    "states = jax.tree.map(lambda x, xs: jnp.concatenate([x[None], xs]), state, states)\n",
    "frames = jax.vmap(lambda state: ca.render(state, particle_radius=0.003))(states)\n",
    "\n",
    "mediapy.show_video(frames, width=512, height=512, fps=int(1 / dt))"
   ]
  }
 ],
 "metadata": {
  "kernelspec": {
   "display_name": ".venv",
   "language": "python",
   "name": "python3"
  },
  "language_info": {
   "codemirror_mode": {
    "name": "ipython",
    "version": 3
   },
   "file_extension": ".py",
   "mimetype": "text/x-python",
   "name": "python",
   "nbconvert_exporter": "python",
   "pygments_lexer": "ipython3",
   "version": "3.12.8"
  }
 },
 "nbformat": 4,
 "nbformat_minor": 2
}
